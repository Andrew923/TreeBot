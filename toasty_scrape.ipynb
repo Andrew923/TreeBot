{
 "cells": [
  {
   "cell_type": "code",
   "execution_count": 13,
   "metadata": {},
   "outputs": [],
   "source": [
    "file = 'andrew.txt'\n",
    "id = '177962211841540097'"
   ]
  },
  {
   "cell_type": "code",
   "execution_count": 14,
   "metadata": {},
   "outputs": [],
   "source": [
    "from bs4 import BeautifulSoup\n",
    "soup = BeautifulSoup(open(file,'r',encoding='utf8').read(), 'html.parser')\n",
    "list = []\n",
    "for thing in soup.find_all('p'):\n",
    "    list.append(thing.contents)\n",
    "for i in range(len(list)):\n",
    "    if (i%2 != 0):\n",
    "        list[i] = list[i][0][1:]\n",
    "    else:\n",
    "        list[i] = list[i][0]\n",
    "iter = iter(list)\n",
    "dict = dict(zip(iter, iter))"
   ]
  },
  {
   "cell_type": "code",
   "execution_count": 15,
   "metadata": {},
   "outputs": [],
   "source": [
    "pokemon_dict = {id: dict}"
   ]
  },
  {
   "cell_type": "code",
   "execution_count": 17,
   "metadata": {},
   "outputs": [],
   "source": [
    "import json\n",
    "with open('pokemon.json', 'w') as f:\n",
    "    json.dump(pokemon_dict, f)"
   ]
  },
  {
   "cell_type": "code",
   "execution_count": 7,
   "metadata": {},
   "outputs": [],
   "source": [
    "from pokedex import pokedex\n",
    "pokedex = pokedex.Pokedex()\n",
    "pokemons = []\n"
   ]
  },
  {
   "cell_type": "code",
   "execution_count": null,
   "metadata": {},
   "outputs": [],
   "source": [
    "for i in range(807):\n",
    "    pokemons.append(pokedex.get_pokemon_by_number(i+1)[0]['name'])"
   ]
  },
  {
   "cell_type": "code",
   "execution_count": null,
   "metadata": {},
   "outputs": [],
   "source": [
    "import json\n",
    "\n",
    "with open('pokemon.json', 'w') as f:\n",
    "    json.dump(pokemons, f)"
   ]
  }
 ],
 "metadata": {
  "interpreter": {
   "hash": "7696230014e3702b073a930477916af57ea7934fab2a6148ed50cac429894d5f"
  },
  "kernelspec": {
   "display_name": "Python 3.9.12 64-bit (windows store)",
   "language": "python",
   "name": "python3"
  },
  "language_info": {
   "codemirror_mode": {
    "name": "ipython",
    "version": 3
   },
   "file_extension": ".py",
   "mimetype": "text/x-python",
   "name": "python",
   "nbconvert_exporter": "python",
   "pygments_lexer": "ipython3",
   "version": "3.9.12"
  },
  "orig_nbformat": 4
 },
 "nbformat": 4,
 "nbformat_minor": 2
}
