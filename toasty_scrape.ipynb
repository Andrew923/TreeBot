{
 "cells": [
  {
   "cell_type": "code",
   "execution_count": 2,
   "metadata": {},
   "outputs": [],
   "source": [
    "file = 'andrew.txt'\n",
    "username = 'Andrew#5402'"
   ]
  },
  {
   "cell_type": "code",
   "execution_count": 5,
   "metadata": {},
   "outputs": [],
   "source": [
    "from bs4 import BeautifulSoup\n",
    "soup = BeautifulSoup(open(file,'r',encoding='utf8').read(), 'html.parser')\n",
    "list = []\n",
    "for thing in soup.find_all('p'):\n",
    "    list.append(thing.contents)\n",
    "for i in range(len(list)):\n",
    "    if (i%2 != 0):\n",
    "        list[i] = list[i][0][1:]\n",
    "    else:\n",
    "        list[i] = list[i][0]\n",
    "iter = iter(list)\n",
    "dict = dict(zip(iter, iter))"
   ]
  },
  {
   "cell_type": "code",
   "execution_count": 9,
   "metadata": {},
   "outputs": [
    {
     "ename": "TypeError",
     "evalue": "'dict_keys' object is not subscriptable",
     "output_type": "error",
     "traceback": [
      "\u001b[1;31m---------------------------------------------------------------------------\u001b[0m",
      "\u001b[1;31mTypeError\u001b[0m                                 Traceback (most recent call last)",
      "Input \u001b[1;32mIn [9]\u001b[0m, in \u001b[0;36m<module>\u001b[1;34m\u001b[0m\n\u001b[1;32m----> 1\u001b[0m \u001b[39mdict\u001b[39m[\u001b[39mdict\u001b[39;49m\u001b[39m.\u001b[39;49mkeys()[\u001b[39m0\u001b[39;49m]]\n",
      "\u001b[1;31mTypeError\u001b[0m: 'dict_keys' object is not subscriptable"
     ]
    }
   ],
   "source": [
    "dict[dict.keys()[0]]"
   ]
  },
  {
   "cell_type": "code",
   "execution_count": null,
   "metadata": {},
   "outputs": [],
   "source": [
    "import json\n",
    "\n",
    "with open('pokemon.json', 'w') as f:\n",
    "    json.dump()"
   ]
  }
 ],
 "metadata": {
  "interpreter": {
   "hash": "7696230014e3702b073a930477916af57ea7934fab2a6148ed50cac429894d5f"
  },
  "kernelspec": {
   "display_name": "Python 3.9.12 64-bit (windows store)",
   "language": "python",
   "name": "python3"
  },
  "language_info": {
   "codemirror_mode": {
    "name": "ipython",
    "version": 3
   },
   "file_extension": ".py",
   "mimetype": "text/x-python",
   "name": "python",
   "nbconvert_exporter": "python",
   "pygments_lexer": "ipython3",
   "version": "3.9.12"
  },
  "orig_nbformat": 4
 },
 "nbformat": 4,
 "nbformat_minor": 2
}
